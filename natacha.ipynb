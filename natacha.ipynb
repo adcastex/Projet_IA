{
 "cells": [
  {
   "cell_type": "code",
   "execution_count": 74,
   "metadata": {},
   "outputs": [
    {
     "name": "stdout",
     "output_type": "stream",
     "text": [
      "Requirement already satisfied: python-marmiton==0.4.2 in /opt/anaconda3/lib/python3.8/site-packages (0.4.2)\n",
      "Requirement already satisfied: bs4 in /opt/anaconda3/lib/python3.8/site-packages (from python-marmiton==0.4.2) (0.0.2)\n",
      "Requirement already satisfied: beautifulsoup4 in /opt/anaconda3/lib/python3.8/site-packages (from bs4->python-marmiton==0.4.2) (4.6.0)\n",
      "\n",
      "\u001b[1m[\u001b[0m\u001b[34;49mnotice\u001b[0m\u001b[1;39;49m]\u001b[0m\u001b[39;49m A new release of pip is available: \u001b[0m\u001b[31;49m23.3.1\u001b[0m\u001b[39;49m -> \u001b[0m\u001b[32;49m24.0\u001b[0m\n",
      "\u001b[1m[\u001b[0m\u001b[34;49mnotice\u001b[0m\u001b[1;39;49m]\u001b[0m\u001b[39;49m To update, run: \u001b[0m\u001b[32;49mpip install --upgrade pip\u001b[0m\n"
     ]
    }
   ],
   "source": [
    "!pip install python-marmiton==0.4.2"
   ]
  },
  {
   "cell_type": "code",
   "execution_count": 75,
   "metadata": {},
   "outputs": [
    {
     "name": "stdout",
     "output_type": "stream",
     "text": [
      "Requirement already satisfied: beautifulsoup4==4.6.0 in /opt/anaconda3/lib/python3.8/site-packages (4.6.0)\n",
      "\n",
      "\u001b[1m[\u001b[0m\u001b[34;49mnotice\u001b[0m\u001b[1;39;49m]\u001b[0m\u001b[39;49m A new release of pip is available: \u001b[0m\u001b[31;49m23.3.1\u001b[0m\u001b[39;49m -> \u001b[0m\u001b[32;49m24.0\u001b[0m\n",
      "\u001b[1m[\u001b[0m\u001b[34;49mnotice\u001b[0m\u001b[1;39;49m]\u001b[0m\u001b[39;49m To update, run: \u001b[0m\u001b[32;49mpip install --upgrade pip\u001b[0m\n"
     ]
    }
   ],
   "source": [
    "!pip install beautifulsoup4==4.6.0"
   ]
  },
  {
   "cell_type": "code",
   "execution_count": 1,
   "metadata": {},
   "outputs": [],
   "source": [
    "from bs4 import BeautifulSoup"
   ]
  },
  {
   "cell_type": "code",
   "execution_count": 2,
   "metadata": {},
   "outputs": [],
   "source": [
    "import urllib.parse\n",
    "import urllib.request"
   ]
  },
  {
   "cell_type": "code",
   "execution_count": 3,
   "metadata": {},
   "outputs": [],
   "source": [
    "import re\n",
    "import ssl"
   ]
  },
  {
   "cell_type": "code",
   "execution_count": 4,
   "metadata": {},
   "outputs": [],
   "source": [
    "class RecipeNotFound(Exception):\n",
    "\tpass"
   ]
  },
  {
   "cell_type": "code",
   "execution_count": 5,
   "metadata": {},
   "outputs": [],
   "source": [
    "class Marmiton(object):\n",
    "\t@staticmethod\n",
    "\tdef search(query_dict):\n",
    "\t\t\"\"\"\n",
    "\t\tSearch recipes parsing the returned html data.\n",
    "\t\tOptions:\n",
    "\t\t'aqt': string of keywords separated by a white space  (query search)\n",
    "\t\tOptional options :\n",
    "\t\t'dt': \"entree\" | \"platprincipal\" | \"accompagnement\" | \"amusegueule\" | \"sauce\"  (plate type)\n",
    "\t\t'exp': 1 | 2 | 3  (plate expense 1: cheap, 3: expensive)\n",
    "\t\t'dif': 1 | 2 | 3 | 4  (recipe difficultie 1: easy, 4: advanced)\n",
    "\t\t'veg': 0 | 1  (vegetarien only: 1)\n",
    "\t\t'rct': 0 | 1  (without cook: 1)\n",
    "\t\t'sort': \"markdesc\" (rate) | \"popularitydesc\" (popularity) | \"\" (empty for relevance)\n",
    "\t\t\"\"\"\n",
    "\t\tbase_url = \"http://www.marmiton.org/recettes/recherche.aspx?\"\n",
    "\t\tquery_url = urllib.parse.urlencode(query_dict)\n",
    "\n",
    "\t\turl = base_url + query_url\n",
    "\n",
    "\t\t\n",
    "\t\thandler = urllib.request.HTTPSHandler(context=ssl._create_unverified_context())\n",
    "\t\topener = urllib.request.build_opener(handler)\n",
    "\t\tresponse = opener.open(url)\n",
    "\t\thtml_content = response.read()\n",
    "\t\n",
    "\t\tsoup = BeautifulSoup(html_content, 'html.parser')\n",
    "\n",
    "\t\tsearch_data = []\n",
    "\n",
    "\t\tarticles = soup.findAll(\"a\", href=True)\n",
    "\t\tarticles = [a for a in articles if a[\"href\"].startswith(\"/recettes/recette_\")]\n",
    "\n",
    "\t\titerarticles = iter(articles)\n",
    "\t\tfor article in iterarticles:\n",
    "\t\t\tdata = {}\n",
    "\t\t\ttry:\n",
    "\t\t\t\tdata[\"name\"] = article.find(\"h4\").get_text().strip(' \\t\\n\\r')\n",
    "\t\t\t\tdata[\"url\"] = article['href']\n",
    "\t\t\t\ttry:\n",
    "\t\t\t\t\tdata[\"rate\"] = article.find(\"span\").get_text().split(\"/\")[0]\n",
    "\t\t\t\texcept Exception as e0:\n",
    "\t\t\t\t\tpass\n",
    "\t\t\t\ttry:\n",
    "\t\t\t\t\tdata[\"image\"] = article.find('img')['data-src']\n",
    "\t\t\t\texcept Exception as e1:\n",
    "\t\t\t\t\ttry:\n",
    "\t\t\t\t\t\tdata[\"image\"] = article.find('img')['src']\n",
    "\t\t\t\t\texcept Exception as e1:\n",
    "\t\t\t\t\t\tpass\n",
    "\t\t\t\t\tpass\n",
    "\t\t\texcept Exception as e2:\n",
    "\t\t\t\tpass\n",
    "\t\t\tif data:\n",
    "\t\t\t\tsearch_data.append(data)\n",
    "\t\t\n",
    "\t\treturn search_data\n",
    "\n",
    "\t@staticmethod\n",
    "\tdef _get_name(soup):\n",
    "\t\treturn soup.find(\"h1\").get_text().strip(' \\t\\n\\r')\n",
    "\n",
    "\t@staticmethod\n",
    "\tdef _get_ingredients(soup):\n",
    "\t\tingredients_list = []\n",
    "\t\n",
    "\t\t# Trouver toutes les balises span avec la classe \"card-ingredient-title\"\n",
    "\t\tingredient_titles = soup.find_all('span', class_='card-ingredient-title')\n",
    "\t\t\n",
    "\t\tfor ingredient_title in ingredient_titles:\n",
    "\t\t\tquantity_span = ingredient_title.find('span', class_='card-ingredient-quantity')\n",
    "\t\t\tingredient_quantity = quantity_span.find('span', class_='count').text.strip()\n",
    "\t\t\tunit = quantity_span.find('span', class_='unit').text.strip()\n",
    "\t\t\tingredient_name = ingredient_title.find('span', class_='ingredient-name').text.strip()\n",
    "        \n",
    "        \t# Créer une chaîne de caractères représentant l'ingrédient et sa quantité associée\n",
    "\t\t\tingredient_string = f\"{ingredient_quantity} {unit} de {ingredient_name}\"\n",
    "\t\t\tingredients_list.append(ingredient_string)\n",
    "\t\treturn ingredients_list\n",
    "\n",
    "\t@staticmethod\n",
    "\tdef _get_steps(soup):\n",
    "\t\tsteps = []\n",
    "\t\tcontainers = soup.find_all(\"div\", class_=\"recipe-step-list__container\")\n",
    "\t\tfor container in containers:\n",
    "\t\t\tstep_paragraph = container.find(\"p\")\n",
    "\t\t\tif step_paragraph:\n",
    "\t\t\t\tsteps.append(step_paragraph.get_text().strip())\n",
    "\t\treturn steps\n",
    "\n",
    "\t@staticmethod\n",
    "\tdef _get_total_time(soup):\n",
    "\t\ttotal_time_element = soup.find(\"div\", class_=\"time__total\").find(\"div\")\n",
    "\t\tif total_time_element:\n",
    "\t\t\treturn total_time_element.get_text(strip=True)\n",
    "\t\treturn None\n",
    "\t\n",
    "\n",
    "\t@staticmethod\n",
    "\tdef _get_serving_count(soup):\n",
    "\t\tserving_count_input = soup.select_one(\"input.recipe-ingredients__qt-counter__value[aria-label='counter']\")\n",
    "\t\tif serving_count_input:\n",
    "\t\t\treturn serving_count_input[\"value\"]\n",
    "\t\treturn None\n",
    "\n",
    "\t@staticmethod\n",
    "\tdef _get_budget(soup):\n",
    "\t\tbudget_tag = soup.find(\"i\", class_=\"icon icon-price\")\n",
    "\t\tif budget_tag:\n",
    "\t\t\tbudget_span = budget_tag.find_next_sibling(\"span\")\n",
    "\t\t\tif budget_span:\n",
    "\t\t\t\treturn budget_span.get_text().strip()\n",
    "\t\treturn None\n",
    "\n",
    "\n",
    "\t@classmethod\n",
    "\tdef get(cls, uri):\n",
    "\t\t\n",
    "\t\tbase_url = \"http://www.marmiton.org\"\n",
    "\t\turl = base_url + (\"\" if uri.startswith(\"/\") else \"/\") + uri\n",
    "\n",
    "\t\ttry:\n",
    "\t\t\thandler = urllib.request.HTTPSHandler(context=ssl._create_unverified_context())\n",
    "\t\t\topener = urllib.request.build_opener(handler)\n",
    "\t\t\tresponse = opener.open(url)\n",
    "\t\t\thtml_content = response.read()\n",
    "\t\texcept urllib.error.HTTPError as e:\n",
    "\t\t\traise RecipeNotFound if e.code == 404 else e\n",
    "\t\t\t\n",
    "\t\tsoup = BeautifulSoup(html_content, 'html.parser')\n",
    "\n",
    "\t\telements = [\n",
    "\t\t\t{\"name\": \"name\", \"default_value\": \"\"},\n",
    "\t\t\t{\"name\": \"ingredients\", \"default_value\": []},\n",
    "\t\t\t{\"name\": \"steps\", \"default_value\": []},\n",
    "\t\t\t{\"name\": \"budget\", \"default_value\": \"\"},\n",
    "\t\t\t{\"name\": \"total_time\", \"default_value\": \"\"},\n",
    "\t\t\t{\"name\": \"serving_count\", \"default_value\": \"\"},\n",
    "\t\t]\n",
    "\n",
    "\t\tdata = {\"url\": url}\n",
    "\t\tfor element in elements:\n",
    "\t\t\ttry:\n",
    "\t\t\t\tdata[element[\"name\"]] = getattr(cls, \"_get_\" + element[\"name\"])(soup)\n",
    "\t\t\texcept:\n",
    "\t\t\t\tdata[element[\"name\"]] = element[\"default_value\"]\n",
    "\n",
    "\t\treturn data"
   ]
  },
  {
   "cell_type": "code",
   "execution_count": 6,
   "metadata": {},
   "outputs": [],
   "source": [
    "def search_and_display_recipe(keywords=None):\n",
    "    if not keywords:\n",
    "        #Demande à l'utilisateur de saisir des mots-clés pour la recherche\n",
    "        keywords = input(\"Entrez vos mots-clés pour rechercher une recette sur Marmiton : \")\n",
    "    \n",
    "    # Définit les options de la requête de recherche\n",
    "    query_options = {\n",
    "        \"aqt\": keywords,            # Les mots-clés de la recherche\n",
    "        \"dt\": \"\",                   # Type de plat : \"entree\", \"platprincipal\", \"accompagnement\", \"amusegueule\", \"sauce\" (optionnel)\n",
    "        \"exp\": \"\",                  # Prix du plat : 1 -> Bon marché, 2 -> Moyen, 3 -> Plutôt cher (optionnel)\n",
    "        \"dif\": \"\",                  # Difficulté de la recette : 1 -> Très facile, 2 -> Facile, 3 -> Moyenne, 4 -> Avancée (optionnel)\n",
    "        \"veg\": \"\",                  # Végétarien uniquement : 0 -> Faux, 1 -> Vrai (optionnel)\n",
    "        \"sort\": \"\"                  # Tri : \"markdesc\" (note), \"popularitydesc\" (popularité), \"\" (vide pour la pertinence)\n",
    "    }\n",
    "    \n",
    "    # Effectue la recherche de recettes avec les mots-clés saisis\n",
    "    query_result = Marmiton.search(query_options)\n",
    "    \n",
    "    # Si des résultats sont trouvés, affiche les caractéristiques de la première recette\n",
    "    if query_result:\n",
    "        first_recipe_url = query_result[0]['url']\n",
    "        recipe_details = Marmiton.get(first_recipe_url)\n",
    "        print(\"Caractéristiques de la recette:\")\n",
    "        for key, value in recipe_details.items():\n",
    "            print(f\"{key.capitalize()}: {value}\")\n",
    "    else:\n",
    "        print(\"Aucune recette trouvée pour les mots-clés saisis.\")"
   ]
  },
  {
   "cell_type": "code",
   "execution_count": 7,
   "metadata": {},
   "outputs": [
    {
     "name": "stdout",
     "output_type": "stream",
     "text": [
      "Caractéristiques de la recette:\n",
      "Url: http://www.marmiton.org/recettes/recette_pizza-tomate-mozzarella_30163.aspx\n",
      "Name: Pizza tomate mozzarella\n",
      "Ingredients: [\"2 cuillères à soupe de huile d'olive\", '  de sel', '  de poivre', '450 g de tomates cerise', '250 g de pâte à pizza', '300 g de mozzarella', '75 g de parmesan râpé']\n",
      "Steps: ['Préchauffer le four à 180°C (thermostat 6). Détailler la mozzarella en fines tranches.', 'Garnir un moule ou une plaque du four avec la pâte à pizza. La huiler.', 'Ajouter les tranches de mozzarella, le parmesan puis les tomates cerise coupées en deux.', \"Saler (peu), poivrer et arroser d'un filet d'huile d'olive.\", 'Laisser reposer la pizza durant 30 minutes au frais.', 'Enfourner pour 30 minutes de cuisson.']\n",
      "Budget: bon marché\n",
      "Total_time: 1h15\n",
      "Serving_count: None\n"
     ]
    }
   ],
   "source": [
    "# Exemple d'utilisation\n",
    "search_and_display_recipe(keywords='pizza mozzarella')"
   ]
  }
 ],
 "metadata": {
  "kernelspec": {
   "display_name": "Python 3",
   "language": "python",
   "name": "python3"
  },
  "language_info": {
   "codemirror_mode": {
    "name": "ipython",
    "version": 3
   },
   "file_extension": ".py",
   "mimetype": "text/x-python",
   "name": "python",
   "nbconvert_exporter": "python",
   "pygments_lexer": "ipython3",
   "version": "3.10.11"
  }
 },
 "nbformat": 4,
 "nbformat_minor": 2
}
